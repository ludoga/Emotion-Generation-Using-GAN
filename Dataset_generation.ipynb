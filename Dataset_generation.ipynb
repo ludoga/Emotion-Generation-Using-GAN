{
 "cells": [
  {
   "cell_type": "code",
   "execution_count": 7,
   "metadata": {
    "collapsed": true
   },
   "outputs": [],
   "source": [
    "import numpy as np\n",
    "import cv2\n",
    "import random\n",
    "save_name = \"\""
   ]
  },
  {
   "cell_type": "code",
   "execution_count": 9,
   "metadata": {
    "collapsed": false
   },
   "outputs": [],
   "source": [
    "for i in range(0,2000):\n",
    "    img = np.ones((256,256,3), np.uint8)#black image\n",
    "    \n",
    "    #randomizing rectangle width and color\n",
    "    rect_color_random = random.randint(0,255)\n",
    "    rect_width_random = random.randint(5,20)\n",
    "    rect_position_offset = random.randint(-15,15)\n",
    "    #randomizing colors\n",
    "    #choice = random.randint(0,2)\n",
    "    #if(choice%2 == 0):\n",
    "    #    rect_fill_color = (189,224,255)\n",
    "    #else:\n",
    "    #    rect_fill_color = (0,2,113)\n",
    "    rect_fill_color = (0,2,113)\n",
    "    \n",
    "    #drawing rects\n",
    "    cv2.rectangle(img,(25+rect_position_offset,25+rect_position_offset),(225+rect_position_offset,225+rect_position_offset),(rect_color_random,rect_color_random,rect_color_random),rect_width_random)\n",
    "    cv2.rectangle(img,(25+rect_position_offset,25+rect_position_offset),(225+rect_position_offset,225+rect_position_offset),rect_fill_color,-1)\n",
    "    \n",
    "    #drawing eyes\n",
    "    position_offset_eyes = random.randint(-5,5)\n",
    "    size_offset_eyes = random.randint(-5,5)\n",
    "    eyes_fill_color_1 = random.randint(100,255)\n",
    "    eyes_fill_color_2 = random.randint(100,255)\n",
    "    eyes_fill_color_3 = random.randint(100,255)\n",
    "    #eyes_fill_color = (55,163,25)\n",
    "    \n",
    "    cv2.circle(img,(75+position_offset_eyes,75+position_offset_eyes), 25+size_offset_eyes, (eyes_fill_color_1,eyes_fill_color_2,eyes_fill_color_3), -1)\n",
    "    cv2.circle(img,(175+position_offset_eyes,75+position_offset_eyes), 25+size_offset_eyes,(eyes_fill_color_1,eyes_fill_color_2,eyes_fill_color_3), -1)\n",
    "    \n",
    "    lips_fill_color_1 = random.randint(100,255)\n",
    "    lips_fill_color_2 = random.randint(100,255)\n",
    "    lips_fill_color_3 = random.randint(100,255)\n",
    "    #lips_color = (106,93,227)\n",
    "    \n",
    "    lips_axis_offset = random.randint(-10,10)\n",
    "    lips_position_offset = random.randint(-25,0)\n",
    "    \n",
    "    cv2.ellipse(img,(128+lips_position_offset,192+lips_position_offset),(50+lips_axis_offset,25+lips_axis_offset),0,0,180,(lips_fill_color_1,lips_fill_color_2,lips_fill_color_3),-1)\n",
    "    \n",
    "    cv2.imwrite(save_name+\"\"+str(i)+\".png\",img)"
   ]
  },
  {
   "cell_type": "markdown",
   "metadata": {},
   "source": []
  },
  {
   "cell_type": "code",
   "execution_count": null,
   "metadata": {
    "collapsed": true
   },
   "outputs": [],
   "source": []
  }
 ],
 "metadata": {
  "anaconda-cloud": {},
  "kernelspec": {
   "display_name": "Python [default]",
   "language": "python",
   "name": "python2"
  },
  "language_info": {
   "codemirror_mode": {
    "name": "ipython",
    "version": 2
   },
   "file_extension": ".py",
   "mimetype": "text/x-python",
   "name": "python",
   "nbconvert_exporter": "python",
   "pygments_lexer": "ipython2",
   "version": "2.7.12"
  }
 },
 "nbformat": 4,
 "nbformat_minor": 1
}
